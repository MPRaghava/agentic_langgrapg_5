{
 "cells": [
  {
   "cell_type": "code",
   "execution_count": 187,
   "id": "9bf257fa",
   "metadata": {},
   "outputs": [],
   "source": [
    "from langgraph.graph import StateGraph,END,START\n",
    "from typing_extensions import TypedDict"
   ]
  },
  {
   "cell_type": "code",
   "execution_count": 188,
   "id": "b9ab7cd8",
   "metadata": {},
   "outputs": [],
   "source": [
    "import os\n",
    "from dotenv import load_dotenv\n",
    "\n",
    "load_dotenv()\n",
    "groq_api_key = os.getenv(\"groq_api_key\")\n",
    "\n"
   ]
  },
  {
   "cell_type": "code",
   "execution_count": null,
   "id": "4771287c",
   "metadata": {},
   "outputs": [],
   "source": [
    "# Connecting LLM with Chatmodel\n",
    "from langchain_groq.chat_models import ChatGroq\n",
    "from langchain_core.messages import HumanMessage\n",
    "\n",
    "llm =  ChatGroq(\n",
    "    model_name = \"gemma2-9b-it\",\n",
    "    groq_api_key= \"\"\n",
    ")"
   ]
  },
  {
   "cell_type": "code",
   "execution_count": 190,
   "id": "1dc97fa7",
   "metadata": {},
   "outputs": [],
   "source": [
    "response = llm.invoke(\n",
    "    [HumanMessage(content =\"Hi\")]\n",
    ")"
   ]
  },
  {
   "cell_type": "code",
   "execution_count": 191,
   "id": "532746c9",
   "metadata": {},
   "outputs": [],
   "source": [
    "# print(response)"
   ]
  },
  {
   "cell_type": "code",
   "execution_count": 192,
   "id": "524d522d",
   "metadata": {},
   "outputs": [],
   "source": [
    "class State(TypedDict):\n",
    "    application :str\n",
    "    experience_level :str\n",
    "    skill_match : str\n",
    "    response :str"
   ]
  },
  {
   "cell_type": "code",
   "execution_count": 193,
   "id": "d406845f",
   "metadata": {},
   "outputs": [],
   "source": [
    "workflow = StateGraph(State)"
   ]
  },
  {
   "cell_type": "code",
   "execution_count": 194,
   "id": "cebf1f6b",
   "metadata": {},
   "outputs": [],
   "source": [
    "from langchain_core.prompts import ChatPromptTemplate"
   ]
  },
  {
   "cell_type": "code",
   "execution_count": 195,
   "id": "e22f5e0b",
   "metadata": {},
   "outputs": [],
   "source": [
    "# Node 1 :'categorize_experience' to categorize the candidate exp.\n",
    "def categorize_experience(state: State)->State:\n",
    "    print(\"\\nCategorizing the experience level of candidate:\")\n",
    "    prompt = ChatPromptTemplate.from_template(\n",
    "        \"Based on the following job application , categorize the candidate as 'Entry-level','Mid-level','Senior-level'\"\n",
    "        \"Application:{application}\"\n",
    "        )\n",
    "    chain = prompt | llm\n",
    "    experience_level = chain.invoke({\"application\":state[\"application\"]}).content\n",
    "    print(f\"Experience Level : {experience_level}\")\n",
    "    return {\"experience_level\":experience_level}\n"
   ]
  },
  {
   "cell_type": "code",
   "execution_count": 196,
   "id": "7fcf8316",
   "metadata": {},
   "outputs": [],
   "source": [
    "# Node 2 : 'assess_skillset' to 'match' or 'No match'\n",
    "def asses_skillset(state : State)->State:\n",
    "    print(\"\\nAssessing the skillset of the candidate:\")\n",
    "    prompt = ChatPromptTemplate.from_template(\n",
    "        \"Based on the job application for a Python Developer, assess the the candidate's skillset\"\n",
    "        \"Respond with either 'Match' or 'No-Match'\"\n",
    "        \"Application : {application}\"\n",
    "    )\n",
    "    chain = prompt | llm\n",
    "    skill_match = chain.invoke({\"application\":state[\"application\"]}).content\n",
    "    print(f\"Skill Match : {skill_match}\")\n",
    "    return {\"skill_match\": skill_match}"
   ]
  },
  {
   "cell_type": "code",
   "execution_count": 197,
   "id": "8c63674f",
   "metadata": {},
   "outputs": [],
   "source": [
    "# Node 3 :Schedule_hr_interview on skill set Match.\n",
    "def schedule_hr_interview(state: State)->State:\n",
    "    print(\"\\n Schedule the  interview\")\n",
    "    return {\"response\": \"Candidate has been shortlisted for an HR interview.\"}"
   ]
  },
  {
   "cell_type": "code",
   "execution_count": 198,
   "id": "e8848cb6",
   "metadata": {},
   "outputs": [],
   "source": [
    "# Node 4 : Escalation case if exp of candidate is hight and not meeting the skills.\n",
    "def escalate_to_recruiter(state : State)->State:\n",
    "    print(\"\\n Escalating to recruiter.\")\n",
    "    return {\"response\": \"Candidate has senior_level experience but does't match the job skills.\"}"
   ]
  },
  {
   "cell_type": "code",
   "execution_count": 199,
   "id": "38c1b331",
   "metadata": {},
   "outputs": [],
   "source": [
    "# Node 5 : Rejection case when skill does't meet the JD.\n",
    "def reject_application(state:State)->State:\n",
    "    print(\"Sending rejecting email.\")\n",
    "    return{\"response\":\"Candidate does't meet the JD and has been rejected.\"}"
   ]
  },
  {
   "cell_type": "code",
   "execution_count": 200,
   "id": "0455bd2c",
   "metadata": {},
   "outputs": [
    {
     "data": {
      "text/plain": [
       "<langgraph.graph.state.StateGraph at 0x2620c8c6850>"
      ]
     },
     "execution_count": 200,
     "metadata": {},
     "output_type": "execute_result"
    }
   ],
   "source": [
    "workflow.add_node(\"categorize_experience\",categorize_experience)"
   ]
  },
  {
   "cell_type": "code",
   "execution_count": 201,
   "id": "656b4c56",
   "metadata": {},
   "outputs": [
    {
     "data": {
      "text/plain": [
       "<langgraph.graph.state.StateGraph at 0x2620c8c6850>"
      ]
     },
     "execution_count": 201,
     "metadata": {},
     "output_type": "execute_result"
    }
   ],
   "source": [
    "# Add remaining Nodes to the Graph\n",
    "workflow.add_node(\"asses_skillset\",asses_skillset)\n",
    "workflow.add_node(\"schedule_hr_interview\",schedule_hr_interview)\n",
    "workflow.add_node(\"escalate_to_recruiter\",escalate_to_recruiter)\n",
    "workflow.add_node(\"reject_application\",reject_application)"
   ]
  },
  {
   "cell_type": "code",
   "execution_count": 202,
   "id": "44580e4b",
   "metadata": {},
   "outputs": [],
   "source": [
    "# def route_app(state:State)->str:\n",
    "#     if(state[\"skill_match\"] != \"Match\"):        \n",
    "#         return \"reject_application\"\n",
    "#     elif(state[\"experience_level\"]==\"senior-level\"):\n",
    "#         return \"escalate_to_recruiter\"\n",
    "#     else:\n",
    "#         return \"schedule_hr_interview\"\n",
    "\n",
    "def route_app(state :State)->State:\n",
    "    if(state[\"experience_level\"]==\"senior-level\"):\n",
    "        return \"escalate_to_recruiter\"\n",
    "    elif(state[\"skill_match\"]==\"No-Match\"):\n",
    "        return \"reject_application\"\n",
    "    else:\n",
    "        return \"schedule_hr_interview\""
   ]
  },
  {
   "cell_type": "code",
   "execution_count": 203,
   "id": "f853e36e",
   "metadata": {},
   "outputs": [
    {
     "data": {
      "text/plain": [
       "<langgraph.graph.state.StateGraph at 0x2620c8c6850>"
      ]
     },
     "execution_count": 203,
     "metadata": {},
     "output_type": "execute_result"
    }
   ],
   "source": [
    "workflow.add_edge(\"categorize_experience\",\"asses_skillset\")\n",
    "workflow.add_conditional_edges(\"asses_skillset\",route_app)"
   ]
  },
  {
   "cell_type": "code",
   "execution_count": 204,
   "id": "47d2422e",
   "metadata": {},
   "outputs": [
    {
     "data": {
      "text/plain": [
       "<langgraph.graph.state.StateGraph at 0x2620c8c6850>"
      ]
     },
     "execution_count": 204,
     "metadata": {},
     "output_type": "execute_result"
    }
   ],
   "source": [
    "workflow.add_edge(START,\"categorize_experience\")\n",
    "workflow.add_edge(\"asses_skillset\",END)\n",
    "workflow.add_edge(\"escalate_to_recruiter\",END)\n",
    "workflow.add_edge(\"reject_application\",END)\n",
    "workflow.add_edge(\"schedule_hr_interview\",END)"
   ]
  },
  {
   "cell_type": "code",
   "execution_count": 205,
   "id": "8c7b2274",
   "metadata": {},
   "outputs": [],
   "source": [
    "app = workflow.compile()"
   ]
  },
  {
   "cell_type": "code",
   "execution_count": 209,
   "id": "5d415944",
   "metadata": {},
   "outputs": [],
   "source": [
    "\n",
    "# from IPython.display import Image,display\n",
    "# display(Image(app.get_graph().draw_mermaid_png()))"
   ]
  },
  {
   "cell_type": "code",
   "execution_count": 207,
   "id": "3f69aa30",
   "metadata": {},
   "outputs": [],
   "source": [
    "def run_candidate_screening(application:str):\n",
    "    results = app.invoke({\"application\":application})\n",
    "    return {\n",
    "        \"experience_level\":results[\"experience_level\"],\n",
    "        \"skill_match\":results[\"skill_match\"],\n",
    "        \"response\":results[\"response\"]\n",
    "    }\n",
    "                         "
   ]
  },
  {
   "cell_type": "code",
   "execution_count": 208,
   "id": "7c30537b",
   "metadata": {},
   "outputs": [
    {
     "name": "stdout",
     "output_type": "stream",
     "text": [
      "\n",
      "Categorizing the experience level of candidate:\n",
      "Experience Level : Based on the information provided, the candidate would be categorized as **Mid-level**. \n",
      "\n",
      "Here's why:\n",
      "\n",
      "* **5 years of experience** is generally considered beyond the typical entry-level range. \n",
      "*  While not a significant number of years to be considered senior, it demonstrates a solid foundation and likely some project ownership or leadership experience. \n",
      "\n",
      "\n",
      "Let me know if you have any other application details you'd like me to consider for a more accurate assessment! \n",
      "\n",
      "\n",
      "Assessing the skillset of the candidate:\n",
      "Skill Match : Match \n",
      "\n",
      "\n",
      " Schedule the  interview\n",
      "\n",
      "\n",
      "Computed Results:\n",
      "Application:I have 5 years of experience in application developement on Python.\n",
      "Experience Level :Based on the information provided, the candidate would be categorized as **Mid-level**. \n",
      "\n",
      "Here's why:\n",
      "\n",
      "* **5 years of experience** is generally considered beyond the typical entry-level range. \n",
      "*  While not a significant number of years to be considered senior, it demonstrates a solid foundation and likely some project ownership or leadership experience. \n",
      "\n",
      "\n",
      "Let me know if you have any other application details you'd like me to consider for a more accurate assessment! \n",
      "\n",
      "Skill Match :Match \n",
      "\n",
      "Response :Hi there! 👋 \n",
      "\n",
      "How can I help you today? 😊\n",
      "\n"
     ]
    }
   ],
   "source": [
    "application_text = \"I have 5 years of experience in application developement on Python.\"\n",
    "results = run_candidate_screening(application_text)\n",
    "print(\"\\n\\nComputed Results:\")\n",
    "print(f\"Application:{application_text}\")\n",
    "print(f\"Experience Level :{results['experience_level']}\")\n",
    "print(f\"Skill Match :{results['skill_match']}\")\n",
    "print(f\"Response :{response.content}\")"
   ]
  }
 ],
 "metadata": {
  "kernelspec": {
   "display_name": ".venv",
   "language": "python",
   "name": "python3"
  },
  "language_info": {
   "codemirror_mode": {
    "name": "ipython",
    "version": 3
   },
   "file_extension": ".py",
   "mimetype": "text/x-python",
   "name": "python",
   "nbconvert_exporter": "python",
   "pygments_lexer": "ipython3",
   "version": "3.11.7"
  }
 },
 "nbformat": 4,
 "nbformat_minor": 5
}
